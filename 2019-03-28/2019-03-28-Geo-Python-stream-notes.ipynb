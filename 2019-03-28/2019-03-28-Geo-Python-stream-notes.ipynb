{
 "cells": [
  {
   "cell_type": "markdown",
   "metadata": {},
   "source": [
    "# Pandas and NumPy Q&A"
   ]
  },
  {
   "cell_type": "code",
   "execution_count": 1,
   "metadata": {},
   "outputs": [
    {
     "data": {
      "text/plain": [
       "'/Users/whipp/Desktop/Geo-Python'"
      ]
     },
     "execution_count": 1,
     "metadata": {},
     "output_type": "execute_result"
    }
   ],
   "source": [
    "%pwd"
   ]
  },
  {
   "cell_type": "code",
   "execution_count": 2,
   "metadata": {},
   "outputs": [
    {
     "name": "stdout",
     "output_type": "stream",
     "text": [
      "/Users/whipp/Desktop/Geo-Python/notebooks/notebooks/L5\n"
     ]
    }
   ],
   "source": [
    "cd notebooks/notebooks/L5/"
   ]
  },
  {
   "cell_type": "code",
   "execution_count": 3,
   "metadata": {},
   "outputs": [
    {
     "name": "stdout",
     "output_type": "stream",
     "text": [
      "Kumpula-June-2016-w-metadata.txt  \u001b[34mPandas\u001b[m\u001b[m/\n",
      "\u001b[34mNumPy\u001b[m\u001b[m/                            \u001b[34mimg\u001b[m\u001b[m/\n"
     ]
    }
   ],
   "source": [
    "ls"
   ]
  },
  {
   "cell_type": "markdown",
   "metadata": {},
   "source": [
    "# Getting started"
   ]
  },
  {
   "cell_type": "code",
   "execution_count": 4,
   "metadata": {},
   "outputs": [],
   "source": [
    "import pandas as pd\n",
    "import numpy as np"
   ]
  },
  {
   "cell_type": "code",
   "execution_count": 5,
   "metadata": {},
   "outputs": [],
   "source": [
    "# Read in data file using Pandas\n",
    "fp = 'Kumpula-June-2016-w-metadata.txt'\n",
    "\n",
    "dataFrame = pd.read_csv(fp, skiprows=8)"
   ]
  },
  {
   "cell_type": "code",
   "execution_count": 6,
   "metadata": {},
   "outputs": [
    {
     "name": "stdout",
     "output_type": "stream",
     "text": [
      "    YEARMODA  TEMP   MAX   MIN\n",
      "0   20160601  65.5  73.6  54.7\n",
      "1   20160602  65.8  80.8  55.0\n",
      "2   20160603  68.4  77.9  55.6\n",
      "3   20160604  57.5  70.9  47.3\n",
      "4   20160605  51.4  58.3  43.2\n",
      "5   20160606  52.2  59.7  42.8\n",
      "6   20160607  56.9  65.1  45.9\n",
      "7   20160608  54.2  60.4  47.5\n",
      "8   20160609  49.4  54.1  45.7\n",
      "9   20160610  49.5  55.9  43.0\n",
      "10  20160611  54.0  62.1  41.7\n",
      "11  20160612  55.4  64.2  46.0\n",
      "12  20160613  58.3  68.2  47.3\n",
      "13  20160614  59.7  67.8  47.8\n",
      "14  20160615  63.4  70.3  49.3\n",
      "15  20160616  57.8  67.5  55.6\n",
      "16  20160617  60.4  70.7  55.9\n",
      "17  20160618  57.3  62.8  54.0\n",
      "18  20160619  56.3  59.2  54.1\n",
      "19  20160620  59.3  69.1  52.2\n",
      "20  20160621  62.6  71.4  50.4\n",
      "21  20160622  61.7  70.2  55.4\n",
      "22  20160623  60.9  67.1  54.9\n",
      "23  20160624  61.1  68.9  56.7\n",
      "24  20160625  65.7  75.4  57.9\n",
      "25  20160626  69.6  77.7  60.3\n",
      "26  20160627  60.7  70.0  57.6\n",
      "27  20160628  65.4  73.0  55.8\n",
      "28  20160629  65.8  73.2  59.7\n",
      "29  20160630  65.7  72.7  59.2\n"
     ]
    }
   ],
   "source": [
    "print(dataFrame)"
   ]
  },
  {
   "cell_type": "code",
   "execution_count": 7,
   "metadata": {},
   "outputs": [],
   "source": [
    "# Read data file using NumPy\n",
    "\n",
    "data = np.genfromtxt(fp, skip_header=9, delimiter=',')"
   ]
  },
  {
   "cell_type": "code",
   "execution_count": 8,
   "metadata": {},
   "outputs": [
    {
     "name": "stdout",
     "output_type": "stream",
     "text": [
      "[[2.0160601e+07 6.5500000e+01 7.3600000e+01 5.4700000e+01]\n",
      " [2.0160602e+07 6.5800000e+01 8.0800000e+01 5.5000000e+01]\n",
      " [2.0160603e+07 6.8400000e+01 7.7900000e+01 5.5600000e+01]\n",
      " [2.0160604e+07 5.7500000e+01 7.0900000e+01 4.7300000e+01]\n",
      " [2.0160605e+07 5.1400000e+01 5.8300000e+01 4.3200000e+01]\n",
      " [2.0160606e+07 5.2200000e+01 5.9700000e+01 4.2800000e+01]\n",
      " [2.0160607e+07 5.6900000e+01 6.5100000e+01 4.5900000e+01]\n",
      " [2.0160608e+07 5.4200000e+01 6.0400000e+01 4.7500000e+01]\n",
      " [2.0160609e+07 4.9400000e+01 5.4100000e+01 4.5700000e+01]\n",
      " [2.0160610e+07 4.9500000e+01 5.5900000e+01 4.3000000e+01]\n",
      " [2.0160611e+07 5.4000000e+01 6.2100000e+01 4.1700000e+01]\n",
      " [2.0160612e+07 5.5400000e+01 6.4200000e+01 4.6000000e+01]\n",
      " [2.0160613e+07 5.8300000e+01 6.8200000e+01 4.7300000e+01]\n",
      " [2.0160614e+07 5.9700000e+01 6.7800000e+01 4.7800000e+01]\n",
      " [2.0160615e+07 6.3400000e+01 7.0300000e+01 4.9300000e+01]\n",
      " [2.0160616e+07 5.7800000e+01 6.7500000e+01 5.5600000e+01]\n",
      " [2.0160617e+07 6.0400000e+01 7.0700000e+01 5.5900000e+01]\n",
      " [2.0160618e+07 5.7300000e+01 6.2800000e+01 5.4000000e+01]\n",
      " [2.0160619e+07 5.6300000e+01 5.9200000e+01 5.4100000e+01]\n",
      " [2.0160620e+07 5.9300000e+01 6.9100000e+01 5.2200000e+01]\n",
      " [2.0160621e+07 6.2600000e+01 7.1400000e+01 5.0400000e+01]\n",
      " [2.0160622e+07 6.1700000e+01 7.0200000e+01 5.5400000e+01]\n",
      " [2.0160623e+07 6.0900000e+01 6.7100000e+01 5.4900000e+01]\n",
      " [2.0160624e+07 6.1100000e+01 6.8900000e+01 5.6700000e+01]\n",
      " [2.0160625e+07 6.5700000e+01 7.5400000e+01 5.7900000e+01]\n",
      " [2.0160626e+07 6.9600000e+01 7.7700000e+01 6.0300000e+01]\n",
      " [2.0160627e+07 6.0700000e+01 7.0000000e+01 5.7600000e+01]\n",
      " [2.0160628e+07 6.5400000e+01 7.3000000e+01 5.5800000e+01]\n",
      " [2.0160629e+07 6.5800000e+01 7.3200000e+01 5.9700000e+01]\n",
      " [2.0160630e+07 6.5700000e+01 7.2700000e+01 5.9200000e+01]]\n"
     ]
    }
   ],
   "source": [
    "print(data)"
   ]
  },
  {
   "cell_type": "code",
   "execution_count": 10,
   "metadata": {},
   "outputs": [
    {
     "data": {
      "text/plain": [
       "array([2.0160601e+07, 6.5500000e+01, 7.3600000e+01, 5.4700000e+01])"
      ]
     },
     "execution_count": 10,
     "metadata": {},
     "output_type": "execute_result"
    }
   ],
   "source": [
    "# First row of data file\n",
    "data[0,:]"
   ]
  },
  {
   "cell_type": "code",
   "execution_count": 11,
   "metadata": {},
   "outputs": [
    {
     "data": {
      "text/plain": [
       "array([20160601., 20160602., 20160603., 20160604., 20160605., 20160606.,\n",
       "       20160607., 20160608., 20160609., 20160610., 20160611., 20160612.,\n",
       "       20160613., 20160614., 20160615., 20160616., 20160617., 20160618.,\n",
       "       20160619., 20160620., 20160621., 20160622., 20160623., 20160624.,\n",
       "       20160625., 20160626., 20160627., 20160628., 20160629., 20160630.])"
      ]
     },
     "execution_count": 11,
     "metadata": {},
     "output_type": "execute_result"
    }
   ],
   "source": [
    "# First column of data file\n",
    "data[:,0]"
   ]
  },
  {
   "cell_type": "code",
   "execution_count": 12,
   "metadata": {},
   "outputs": [],
   "source": [
    "# Split data into 1D arrays (NumPy)\n",
    "date = data[:,0]\n",
    "temp = data[:,1]\n",
    "max_temp = data[:,2]\n",
    "min_temp = data[:,3]"
   ]
  },
  {
   "cell_type": "code",
   "execution_count": 13,
   "metadata": {},
   "outputs": [
    {
     "name": "stdout",
     "output_type": "stream",
     "text": [
      "[65.5 65.8 68.4 57.5 51.4 52.2 56.9 54.2 49.4 49.5 54.  55.4 58.3 59.7\n",
      " 63.4 57.8 60.4 57.3 56.3 59.3 62.6 61.7 60.9 61.1 65.7 69.6 60.7 65.4\n",
      " 65.8 65.7]\n"
     ]
    }
   ],
   "source": [
    "print(temp)"
   ]
  },
  {
   "cell_type": "code",
   "execution_count": 14,
   "metadata": {},
   "outputs": [
    {
     "name": "stdout",
     "output_type": "stream",
     "text": [
      "0     65.5\n",
      "1     65.8\n",
      "2     68.4\n",
      "3     57.5\n",
      "4     51.4\n",
      "5     52.2\n",
      "6     56.9\n",
      "7     54.2\n",
      "8     49.4\n",
      "9     49.5\n",
      "10    54.0\n",
      "11    55.4\n",
      "12    58.3\n",
      "13    59.7\n",
      "14    63.4\n",
      "15    57.8\n",
      "16    60.4\n",
      "17    57.3\n",
      "18    56.3\n",
      "19    59.3\n",
      "20    62.6\n",
      "21    61.7\n",
      "22    60.9\n",
      "23    61.1\n",
      "24    65.7\n",
      "25    69.6\n",
      "26    60.7\n",
      "27    65.4\n",
      "28    65.8\n",
      "29    65.7\n",
      "Name: TEMP, dtype: float64\n"
     ]
    }
   ],
   "source": [
    "# Show temperatures in Pandas\n",
    "print(dataFrame['TEMP'])"
   ]
  },
  {
   "cell_type": "code",
   "execution_count": 15,
   "metadata": {},
   "outputs": [],
   "source": [
    "# Create a temperature range variable (or column)\n",
    "\n",
    "# NumPy\n",
    "temp_range = max_temp - min_temp\n",
    "\n",
    "# Pandas\n",
    "dataFrame['TEMP_RANGE'] = dataFrame['MAX'] - dataFrame['MIN']"
   ]
  },
  {
   "cell_type": "code",
   "execution_count": 16,
   "metadata": {},
   "outputs": [
    {
     "name": "stdout",
     "output_type": "stream",
     "text": [
      "[18.9 25.8 22.3 23.6 15.1 16.9 19.2 12.9  8.4 12.9 20.4 18.2 20.9 20.\n",
      " 21.  11.9 14.8  8.8  5.1 16.9 21.  14.8 12.2 12.2 17.5 17.4 12.4 17.2\n",
      " 13.5 13.5]\n"
     ]
    }
   ],
   "source": [
    "# NumPy\n",
    "print(temp_range)"
   ]
  },
  {
   "cell_type": "code",
   "execution_count": 17,
   "metadata": {},
   "outputs": [
    {
     "name": "stdout",
     "output_type": "stream",
     "text": [
      "0     18.9\n",
      "1     25.8\n",
      "2     22.3\n",
      "3     23.6\n",
      "4     15.1\n",
      "5     16.9\n",
      "6     19.2\n",
      "7     12.9\n",
      "8      8.4\n",
      "9     12.9\n",
      "10    20.4\n",
      "11    18.2\n",
      "12    20.9\n",
      "13    20.0\n",
      "14    21.0\n",
      "15    11.9\n",
      "16    14.8\n",
      "17     8.8\n",
      "18     5.1\n",
      "19    16.9\n",
      "20    21.0\n",
      "21    14.8\n",
      "22    12.2\n",
      "23    12.2\n",
      "24    17.5\n",
      "25    17.4\n",
      "26    12.4\n",
      "27    17.2\n",
      "28    13.5\n",
      "29    13.5\n",
      "Name: TEMP_RANGE, dtype: float64\n"
     ]
    }
   ],
   "source": [
    "# Pandas\n",
    "print(dataFrame['TEMP_RANGE'])"
   ]
  },
  {
   "cell_type": "code",
   "execution_count": 18,
   "metadata": {},
   "outputs": [
    {
     "name": "stdout",
     "output_type": "stream",
     "text": [
      "    YEARMODA  TEMP   MAX   MIN  TEMP_RANGE\n",
      "0   20160601  65.5  73.6  54.7        18.9\n",
      "1   20160602  65.8  80.8  55.0        25.8\n",
      "2   20160603  68.4  77.9  55.6        22.3\n",
      "3   20160604  57.5  70.9  47.3        23.6\n",
      "4   20160605  51.4  58.3  43.2        15.1\n",
      "5   20160606  52.2  59.7  42.8        16.9\n",
      "6   20160607  56.9  65.1  45.9        19.2\n",
      "7   20160608  54.2  60.4  47.5        12.9\n",
      "8   20160609  49.4  54.1  45.7         8.4\n",
      "9   20160610  49.5  55.9  43.0        12.9\n",
      "10  20160611  54.0  62.1  41.7        20.4\n",
      "11  20160612  55.4  64.2  46.0        18.2\n",
      "12  20160613  58.3  68.2  47.3        20.9\n",
      "13  20160614  59.7  67.8  47.8        20.0\n",
      "14  20160615  63.4  70.3  49.3        21.0\n",
      "15  20160616  57.8  67.5  55.6        11.9\n",
      "16  20160617  60.4  70.7  55.9        14.8\n",
      "17  20160618  57.3  62.8  54.0         8.8\n",
      "18  20160619  56.3  59.2  54.1         5.1\n",
      "19  20160620  59.3  69.1  52.2        16.9\n",
      "20  20160621  62.6  71.4  50.4        21.0\n",
      "21  20160622  61.7  70.2  55.4        14.8\n",
      "22  20160623  60.9  67.1  54.9        12.2\n",
      "23  20160624  61.1  68.9  56.7        12.2\n",
      "24  20160625  65.7  75.4  57.9        17.5\n",
      "25  20160626  69.6  77.7  60.3        17.4\n",
      "26  20160627  60.7  70.0  57.6        12.4\n",
      "27  20160628  65.4  73.0  55.8        17.2\n",
      "28  20160629  65.8  73.2  59.7        13.5\n",
      "29  20160630  65.7  72.7  59.2        13.5\n"
     ]
    }
   ],
   "source": [
    "print(dataFrame)"
   ]
  },
  {
   "cell_type": "code",
   "execution_count": 19,
   "metadata": {},
   "outputs": [
    {
     "name": "stdout",
     "output_type": "stream",
     "text": [
      "[[2.0160601e+07 6.5500000e+01 7.3600000e+01 5.4700000e+01]\n",
      " [2.0160602e+07 6.5800000e+01 8.0800000e+01 5.5000000e+01]\n",
      " [2.0160603e+07 6.8400000e+01 7.7900000e+01 5.5600000e+01]\n",
      " [2.0160604e+07 5.7500000e+01 7.0900000e+01 4.7300000e+01]\n",
      " [2.0160605e+07 5.1400000e+01 5.8300000e+01 4.3200000e+01]\n",
      " [2.0160606e+07 5.2200000e+01 5.9700000e+01 4.2800000e+01]\n",
      " [2.0160607e+07 5.6900000e+01 6.5100000e+01 4.5900000e+01]\n",
      " [2.0160608e+07 5.4200000e+01 6.0400000e+01 4.7500000e+01]\n",
      " [2.0160609e+07 4.9400000e+01 5.4100000e+01 4.5700000e+01]\n",
      " [2.0160610e+07 4.9500000e+01 5.5900000e+01 4.3000000e+01]\n",
      " [2.0160611e+07 5.4000000e+01 6.2100000e+01 4.1700000e+01]\n",
      " [2.0160612e+07 5.5400000e+01 6.4200000e+01 4.6000000e+01]\n",
      " [2.0160613e+07 5.8300000e+01 6.8200000e+01 4.7300000e+01]\n",
      " [2.0160614e+07 5.9700000e+01 6.7800000e+01 4.7800000e+01]\n",
      " [2.0160615e+07 6.3400000e+01 7.0300000e+01 4.9300000e+01]\n",
      " [2.0160616e+07 5.7800000e+01 6.7500000e+01 5.5600000e+01]\n",
      " [2.0160617e+07 6.0400000e+01 7.0700000e+01 5.5900000e+01]\n",
      " [2.0160618e+07 5.7300000e+01 6.2800000e+01 5.4000000e+01]\n",
      " [2.0160619e+07 5.6300000e+01 5.9200000e+01 5.4100000e+01]\n",
      " [2.0160620e+07 5.9300000e+01 6.9100000e+01 5.2200000e+01]\n",
      " [2.0160621e+07 6.2600000e+01 7.1400000e+01 5.0400000e+01]\n",
      " [2.0160622e+07 6.1700000e+01 7.0200000e+01 5.5400000e+01]\n",
      " [2.0160623e+07 6.0900000e+01 6.7100000e+01 5.4900000e+01]\n",
      " [2.0160624e+07 6.1100000e+01 6.8900000e+01 5.6700000e+01]\n",
      " [2.0160625e+07 6.5700000e+01 7.5400000e+01 5.7900000e+01]\n",
      " [2.0160626e+07 6.9600000e+01 7.7700000e+01 6.0300000e+01]\n",
      " [2.0160627e+07 6.0700000e+01 7.0000000e+01 5.7600000e+01]\n",
      " [2.0160628e+07 6.5400000e+01 7.3000000e+01 5.5800000e+01]\n",
      " [2.0160629e+07 6.5800000e+01 7.3200000e+01 5.9700000e+01]\n",
      " [2.0160630e+07 6.5700000e+01 7.2700000e+01 5.9200000e+01]]\n"
     ]
    }
   ],
   "source": [
    "print(data)"
   ]
  },
  {
   "cell_type": "code",
   "execution_count": 20,
   "metadata": {},
   "outputs": [
    {
     "name": "stdout",
     "output_type": "stream",
     "text": [
      "(30, 5)\n"
     ]
    }
   ],
   "source": [
    "print(dataFrame.shape)"
   ]
  },
  {
   "cell_type": "code",
   "execution_count": 21,
   "metadata": {},
   "outputs": [
    {
     "name": "stdout",
     "output_type": "stream",
     "text": [
      "(30, 4)\n"
     ]
    }
   ],
   "source": [
    "print(data.shape)"
   ]
  },
  {
   "cell_type": "code",
   "execution_count": 22,
   "metadata": {},
   "outputs": [
    {
     "name": "stdout",
     "output_type": "stream",
     "text": [
      "Index(['YEARMODA', 'TEMP', 'MAX', 'MIN', 'TEMP_RANGE'], dtype='object')\n"
     ]
    }
   ],
   "source": [
    "print(dataFrame.columns)"
   ]
  },
  {
   "cell_type": "code",
   "execution_count": 23,
   "metadata": {},
   "outputs": [
    {
     "name": "stdout",
     "output_type": "stream",
     "text": [
      "           YEARMODA       TEMP        MAX        MIN  TEMP_RANGE\n",
      "count  3.000000e+01  30.000000  30.000000  30.000000    30.00000\n",
      "mean   2.016062e+07  59.730000  67.940000  51.750000    16.19000\n",
      "std    8.803408e+00   5.475472   6.651761   5.634484     4.75252\n",
      "min    2.016060e+07  49.400000  54.100000  41.700000     5.10000\n",
      "25%    2.016061e+07  56.450000  63.150000  47.300000    12.90000\n",
      "50%    2.016062e+07  60.050000  69.000000  54.050000    16.90000\n",
      "75%    2.016062e+07  64.900000  72.375000  55.750000    19.80000\n",
      "max    2.016063e+07  69.600000  80.800000  60.300000    25.80000\n"
     ]
    }
   ],
   "source": [
    "print(dataFrame.describe())"
   ]
  },
  {
   "cell_type": "code",
   "execution_count": 24,
   "metadata": {},
   "outputs": [
    {
     "data": {
      "text/plain": [
       "69.6"
      ]
     },
     "execution_count": 24,
     "metadata": {},
     "output_type": "execute_result"
    }
   ],
   "source": [
    "# Pandas\n",
    "dataFrame['TEMP'].max()"
   ]
  },
  {
   "cell_type": "code",
   "execution_count": 25,
   "metadata": {},
   "outputs": [
    {
     "data": {
      "text/plain": [
       "69.6"
      ]
     },
     "execution_count": 25,
     "metadata": {},
     "output_type": "execute_result"
    }
   ],
   "source": [
    "# NumPy\n",
    "temp.max()"
   ]
  },
  {
   "cell_type": "markdown",
   "metadata": {},
   "source": [
    "# Filtering data\n",
    "\n",
    "Imagine that we're interested in the days in June with a temperature range of more than 20 degrees Fahrenheit."
   ]
  },
  {
   "cell_type": "code",
   "execution_count": 26,
   "metadata": {},
   "outputs": [
    {
     "data": {
      "text/html": [
       "<div>\n",
       "<style scoped>\n",
       "    .dataframe tbody tr th:only-of-type {\n",
       "        vertical-align: middle;\n",
       "    }\n",
       "\n",
       "    .dataframe tbody tr th {\n",
       "        vertical-align: top;\n",
       "    }\n",
       "\n",
       "    .dataframe thead th {\n",
       "        text-align: right;\n",
       "    }\n",
       "</style>\n",
       "<table border=\"1\" class=\"dataframe\">\n",
       "  <thead>\n",
       "    <tr style=\"text-align: right;\">\n",
       "      <th></th>\n",
       "      <th>YEARMODA</th>\n",
       "      <th>TEMP</th>\n",
       "      <th>MAX</th>\n",
       "      <th>MIN</th>\n",
       "      <th>TEMP_RANGE</th>\n",
       "    </tr>\n",
       "  </thead>\n",
       "  <tbody>\n",
       "    <tr>\n",
       "      <th>1</th>\n",
       "      <td>20160602</td>\n",
       "      <td>65.8</td>\n",
       "      <td>80.8</td>\n",
       "      <td>55.0</td>\n",
       "      <td>25.8</td>\n",
       "    </tr>\n",
       "    <tr>\n",
       "      <th>2</th>\n",
       "      <td>20160603</td>\n",
       "      <td>68.4</td>\n",
       "      <td>77.9</td>\n",
       "      <td>55.6</td>\n",
       "      <td>22.3</td>\n",
       "    </tr>\n",
       "    <tr>\n",
       "      <th>3</th>\n",
       "      <td>20160604</td>\n",
       "      <td>57.5</td>\n",
       "      <td>70.9</td>\n",
       "      <td>47.3</td>\n",
       "      <td>23.6</td>\n",
       "    </tr>\n",
       "    <tr>\n",
       "      <th>10</th>\n",
       "      <td>20160611</td>\n",
       "      <td>54.0</td>\n",
       "      <td>62.1</td>\n",
       "      <td>41.7</td>\n",
       "      <td>20.4</td>\n",
       "    </tr>\n",
       "    <tr>\n",
       "      <th>12</th>\n",
       "      <td>20160613</td>\n",
       "      <td>58.3</td>\n",
       "      <td>68.2</td>\n",
       "      <td>47.3</td>\n",
       "      <td>20.9</td>\n",
       "    </tr>\n",
       "    <tr>\n",
       "      <th>14</th>\n",
       "      <td>20160615</td>\n",
       "      <td>63.4</td>\n",
       "      <td>70.3</td>\n",
       "      <td>49.3</td>\n",
       "      <td>21.0</td>\n",
       "    </tr>\n",
       "    <tr>\n",
       "      <th>20</th>\n",
       "      <td>20160621</td>\n",
       "      <td>62.6</td>\n",
       "      <td>71.4</td>\n",
       "      <td>50.4</td>\n",
       "      <td>21.0</td>\n",
       "    </tr>\n",
       "  </tbody>\n",
       "</table>\n",
       "</div>"
      ],
      "text/plain": [
       "    YEARMODA  TEMP   MAX   MIN  TEMP_RANGE\n",
       "1   20160602  65.8  80.8  55.0        25.8\n",
       "2   20160603  68.4  77.9  55.6        22.3\n",
       "3   20160604  57.5  70.9  47.3        23.6\n",
       "10  20160611  54.0  62.1  41.7        20.4\n",
       "12  20160613  58.3  68.2  47.3        20.9\n",
       "14  20160615  63.4  70.3  49.3        21.0\n",
       "20  20160621  62.6  71.4  50.4        21.0"
      ]
     },
     "execution_count": 26,
     "metadata": {},
     "output_type": "execute_result"
    }
   ],
   "source": [
    "# Pandas\n",
    "dataFrame.loc[dataFrame['TEMP_RANGE'] > 20.0]"
   ]
  },
  {
   "cell_type": "code",
   "execution_count": 27,
   "metadata": {},
   "outputs": [
    {
     "name": "stdout",
     "output_type": "stream",
     "text": [
      "[20160602. 20160603. 20160604. 20160611. 20160613. 20160615. 20160621.]\n"
     ]
    }
   ],
   "source": [
    "# NumPy\n",
    "\n",
    "# Make a mask with the condition that temp_range more than 20.0\n",
    "mask = temp_range > 20.0\n",
    "\n",
    "# Use mask to check our output\n",
    "print(date[mask])"
   ]
  },
  {
   "cell_type": "code",
   "execution_count": 28,
   "metadata": {},
   "outputs": [
    {
     "name": "stdout",
     "output_type": "stream",
     "text": [
      "[65.8 68.4 57.5 54.  58.3 63.4 62.6]\n"
     ]
    }
   ],
   "source": [
    "print(temp[mask])"
   ]
  },
  {
   "cell_type": "markdown",
   "metadata": {},
   "source": [
    "Now, imagine that we're interested in the *even* days in June with a temperature range of more than 20 degrees Fahrenheit."
   ]
  },
  {
   "cell_type": "code",
   "execution_count": 29,
   "metadata": {},
   "outputs": [
    {
     "data": {
      "text/plain": [
       "2.0"
      ]
     },
     "execution_count": 29,
     "metadata": {},
     "output_type": "execute_result"
    }
   ],
   "source": [
    "4 / 2"
   ]
  },
  {
   "cell_type": "code",
   "execution_count": 30,
   "metadata": {},
   "outputs": [
    {
     "data": {
      "text/plain": [
       "0"
      ]
     },
     "execution_count": 30,
     "metadata": {},
     "output_type": "execute_result"
    }
   ],
   "source": [
    "# The % operator returns the remainder from division\n",
    "4 % 2"
   ]
  },
  {
   "cell_type": "code",
   "execution_count": 32,
   "metadata": {},
   "outputs": [
    {
     "data": {
      "text/plain": [
       "1"
      ]
     },
     "execution_count": 32,
     "metadata": {},
     "output_type": "execute_result"
    }
   ],
   "source": [
    "# The % operator returns the remainder from division\n",
    "5 % 2"
   ]
  },
  {
   "cell_type": "code",
   "execution_count": 33,
   "metadata": {},
   "outputs": [
    {
     "data": {
      "text/html": [
       "<div>\n",
       "<style scoped>\n",
       "    .dataframe tbody tr th:only-of-type {\n",
       "        vertical-align: middle;\n",
       "    }\n",
       "\n",
       "    .dataframe tbody tr th {\n",
       "        vertical-align: top;\n",
       "    }\n",
       "\n",
       "    .dataframe thead th {\n",
       "        text-align: right;\n",
       "    }\n",
       "</style>\n",
       "<table border=\"1\" class=\"dataframe\">\n",
       "  <thead>\n",
       "    <tr style=\"text-align: right;\">\n",
       "      <th></th>\n",
       "      <th>YEARMODA</th>\n",
       "      <th>TEMP</th>\n",
       "      <th>MAX</th>\n",
       "      <th>MIN</th>\n",
       "      <th>TEMP_RANGE</th>\n",
       "    </tr>\n",
       "  </thead>\n",
       "  <tbody>\n",
       "    <tr>\n",
       "      <th>1</th>\n",
       "      <td>20160602</td>\n",
       "      <td>65.8</td>\n",
       "      <td>80.8</td>\n",
       "      <td>55.0</td>\n",
       "      <td>25.8</td>\n",
       "    </tr>\n",
       "    <tr>\n",
       "      <th>3</th>\n",
       "      <td>20160604</td>\n",
       "      <td>57.5</td>\n",
       "      <td>70.9</td>\n",
       "      <td>47.3</td>\n",
       "      <td>23.6</td>\n",
       "    </tr>\n",
       "  </tbody>\n",
       "</table>\n",
       "</div>"
      ],
      "text/plain": [
       "   YEARMODA  TEMP   MAX   MIN  TEMP_RANGE\n",
       "1  20160602  65.8  80.8  55.0        25.8\n",
       "3  20160604  57.5  70.9  47.3        23.6"
      ]
     },
     "execution_count": 33,
     "metadata": {},
     "output_type": "execute_result"
    }
   ],
   "source": [
    "# Pandas\n",
    "dataFrame.loc[(dataFrame['TEMP_RANGE'] > 20.0) & (dataFrame['YEARMODA'] % 2 == 0)]"
   ]
  },
  {
   "cell_type": "code",
   "execution_count": 34,
   "metadata": {},
   "outputs": [
    {
     "name": "stdout",
     "output_type": "stream",
     "text": [
      "[20160602. 20160604.]\n"
     ]
    }
   ],
   "source": [
    "# NumPy\n",
    "\n",
    "# Make a mask with the condition that temp_range more than 20.0\n",
    "mask = (temp_range > 20.0) & (date % 2 == 0)\n",
    "\n",
    "# Use mask to check our output\n",
    "print(date[mask])"
   ]
  },
  {
   "cell_type": "markdown",
   "metadata": {},
   "source": [
    "Now, imagine that we're interested in the *even* days in June **OR** those with a temperature range of more than 20 degrees Fahrenheit."
   ]
  },
  {
   "cell_type": "code",
   "execution_count": 35,
   "metadata": {},
   "outputs": [
    {
     "data": {
      "text/html": [
       "<div>\n",
       "<style scoped>\n",
       "    .dataframe tbody tr th:only-of-type {\n",
       "        vertical-align: middle;\n",
       "    }\n",
       "\n",
       "    .dataframe tbody tr th {\n",
       "        vertical-align: top;\n",
       "    }\n",
       "\n",
       "    .dataframe thead th {\n",
       "        text-align: right;\n",
       "    }\n",
       "</style>\n",
       "<table border=\"1\" class=\"dataframe\">\n",
       "  <thead>\n",
       "    <tr style=\"text-align: right;\">\n",
       "      <th></th>\n",
       "      <th>YEARMODA</th>\n",
       "      <th>TEMP</th>\n",
       "      <th>MAX</th>\n",
       "      <th>MIN</th>\n",
       "      <th>TEMP_RANGE</th>\n",
       "    </tr>\n",
       "  </thead>\n",
       "  <tbody>\n",
       "    <tr>\n",
       "      <th>1</th>\n",
       "      <td>20160602</td>\n",
       "      <td>65.8</td>\n",
       "      <td>80.8</td>\n",
       "      <td>55.0</td>\n",
       "      <td>25.8</td>\n",
       "    </tr>\n",
       "    <tr>\n",
       "      <th>2</th>\n",
       "      <td>20160603</td>\n",
       "      <td>68.4</td>\n",
       "      <td>77.9</td>\n",
       "      <td>55.6</td>\n",
       "      <td>22.3</td>\n",
       "    </tr>\n",
       "    <tr>\n",
       "      <th>3</th>\n",
       "      <td>20160604</td>\n",
       "      <td>57.5</td>\n",
       "      <td>70.9</td>\n",
       "      <td>47.3</td>\n",
       "      <td>23.6</td>\n",
       "    </tr>\n",
       "    <tr>\n",
       "      <th>5</th>\n",
       "      <td>20160606</td>\n",
       "      <td>52.2</td>\n",
       "      <td>59.7</td>\n",
       "      <td>42.8</td>\n",
       "      <td>16.9</td>\n",
       "    </tr>\n",
       "    <tr>\n",
       "      <th>7</th>\n",
       "      <td>20160608</td>\n",
       "      <td>54.2</td>\n",
       "      <td>60.4</td>\n",
       "      <td>47.5</td>\n",
       "      <td>12.9</td>\n",
       "    </tr>\n",
       "    <tr>\n",
       "      <th>9</th>\n",
       "      <td>20160610</td>\n",
       "      <td>49.5</td>\n",
       "      <td>55.9</td>\n",
       "      <td>43.0</td>\n",
       "      <td>12.9</td>\n",
       "    </tr>\n",
       "    <tr>\n",
       "      <th>10</th>\n",
       "      <td>20160611</td>\n",
       "      <td>54.0</td>\n",
       "      <td>62.1</td>\n",
       "      <td>41.7</td>\n",
       "      <td>20.4</td>\n",
       "    </tr>\n",
       "    <tr>\n",
       "      <th>11</th>\n",
       "      <td>20160612</td>\n",
       "      <td>55.4</td>\n",
       "      <td>64.2</td>\n",
       "      <td>46.0</td>\n",
       "      <td>18.2</td>\n",
       "    </tr>\n",
       "    <tr>\n",
       "      <th>12</th>\n",
       "      <td>20160613</td>\n",
       "      <td>58.3</td>\n",
       "      <td>68.2</td>\n",
       "      <td>47.3</td>\n",
       "      <td>20.9</td>\n",
       "    </tr>\n",
       "    <tr>\n",
       "      <th>13</th>\n",
       "      <td>20160614</td>\n",
       "      <td>59.7</td>\n",
       "      <td>67.8</td>\n",
       "      <td>47.8</td>\n",
       "      <td>20.0</td>\n",
       "    </tr>\n",
       "    <tr>\n",
       "      <th>14</th>\n",
       "      <td>20160615</td>\n",
       "      <td>63.4</td>\n",
       "      <td>70.3</td>\n",
       "      <td>49.3</td>\n",
       "      <td>21.0</td>\n",
       "    </tr>\n",
       "    <tr>\n",
       "      <th>15</th>\n",
       "      <td>20160616</td>\n",
       "      <td>57.8</td>\n",
       "      <td>67.5</td>\n",
       "      <td>55.6</td>\n",
       "      <td>11.9</td>\n",
       "    </tr>\n",
       "    <tr>\n",
       "      <th>17</th>\n",
       "      <td>20160618</td>\n",
       "      <td>57.3</td>\n",
       "      <td>62.8</td>\n",
       "      <td>54.0</td>\n",
       "      <td>8.8</td>\n",
       "    </tr>\n",
       "    <tr>\n",
       "      <th>19</th>\n",
       "      <td>20160620</td>\n",
       "      <td>59.3</td>\n",
       "      <td>69.1</td>\n",
       "      <td>52.2</td>\n",
       "      <td>16.9</td>\n",
       "    </tr>\n",
       "    <tr>\n",
       "      <th>20</th>\n",
       "      <td>20160621</td>\n",
       "      <td>62.6</td>\n",
       "      <td>71.4</td>\n",
       "      <td>50.4</td>\n",
       "      <td>21.0</td>\n",
       "    </tr>\n",
       "    <tr>\n",
       "      <th>21</th>\n",
       "      <td>20160622</td>\n",
       "      <td>61.7</td>\n",
       "      <td>70.2</td>\n",
       "      <td>55.4</td>\n",
       "      <td>14.8</td>\n",
       "    </tr>\n",
       "    <tr>\n",
       "      <th>23</th>\n",
       "      <td>20160624</td>\n",
       "      <td>61.1</td>\n",
       "      <td>68.9</td>\n",
       "      <td>56.7</td>\n",
       "      <td>12.2</td>\n",
       "    </tr>\n",
       "    <tr>\n",
       "      <th>25</th>\n",
       "      <td>20160626</td>\n",
       "      <td>69.6</td>\n",
       "      <td>77.7</td>\n",
       "      <td>60.3</td>\n",
       "      <td>17.4</td>\n",
       "    </tr>\n",
       "    <tr>\n",
       "      <th>27</th>\n",
       "      <td>20160628</td>\n",
       "      <td>65.4</td>\n",
       "      <td>73.0</td>\n",
       "      <td>55.8</td>\n",
       "      <td>17.2</td>\n",
       "    </tr>\n",
       "    <tr>\n",
       "      <th>29</th>\n",
       "      <td>20160630</td>\n",
       "      <td>65.7</td>\n",
       "      <td>72.7</td>\n",
       "      <td>59.2</td>\n",
       "      <td>13.5</td>\n",
       "    </tr>\n",
       "  </tbody>\n",
       "</table>\n",
       "</div>"
      ],
      "text/plain": [
       "    YEARMODA  TEMP   MAX   MIN  TEMP_RANGE\n",
       "1   20160602  65.8  80.8  55.0        25.8\n",
       "2   20160603  68.4  77.9  55.6        22.3\n",
       "3   20160604  57.5  70.9  47.3        23.6\n",
       "5   20160606  52.2  59.7  42.8        16.9\n",
       "7   20160608  54.2  60.4  47.5        12.9\n",
       "9   20160610  49.5  55.9  43.0        12.9\n",
       "10  20160611  54.0  62.1  41.7        20.4\n",
       "11  20160612  55.4  64.2  46.0        18.2\n",
       "12  20160613  58.3  68.2  47.3        20.9\n",
       "13  20160614  59.7  67.8  47.8        20.0\n",
       "14  20160615  63.4  70.3  49.3        21.0\n",
       "15  20160616  57.8  67.5  55.6        11.9\n",
       "17  20160618  57.3  62.8  54.0         8.8\n",
       "19  20160620  59.3  69.1  52.2        16.9\n",
       "20  20160621  62.6  71.4  50.4        21.0\n",
       "21  20160622  61.7  70.2  55.4        14.8\n",
       "23  20160624  61.1  68.9  56.7        12.2\n",
       "25  20160626  69.6  77.7  60.3        17.4\n",
       "27  20160628  65.4  73.0  55.8        17.2\n",
       "29  20160630  65.7  72.7  59.2        13.5"
      ]
     },
     "execution_count": 35,
     "metadata": {},
     "output_type": "execute_result"
    }
   ],
   "source": [
    "# Pandas\n",
    "dataFrame.loc[(dataFrame['TEMP_RANGE'] > 20.0) | (dataFrame['YEARMODA'] % 2 == 0)]"
   ]
  },
  {
   "cell_type": "code",
   "execution_count": 36,
   "metadata": {},
   "outputs": [
    {
     "name": "stdout",
     "output_type": "stream",
     "text": [
      "[20160602. 20160603. 20160604. 20160606. 20160608. 20160610. 20160611.\n",
      " 20160612. 20160613. 20160614. 20160615. 20160616. 20160618. 20160620.\n",
      " 20160621. 20160622. 20160624. 20160626. 20160628. 20160630.]\n"
     ]
    }
   ],
   "source": [
    "# NumPy\n",
    "\n",
    "# Make a mask with the condition that temp_range more than 20.0\n",
    "mask = (temp_range > 20.0) | (date % 2 == 0)\n",
    "\n",
    "# Use mask to check our output\n",
    "print(date[mask])"
   ]
  },
  {
   "cell_type": "code",
   "execution_count": null,
   "metadata": {},
   "outputs": [],
   "source": []
  }
 ],
 "metadata": {
  "kernelspec": {
   "display_name": "Python 3",
   "language": "python",
   "name": "python3"
  },
  "language_info": {
   "codemirror_mode": {
    "name": "ipython",
    "version": 3
   },
   "file_extension": ".py",
   "mimetype": "text/x-python",
   "name": "python",
   "nbconvert_exporter": "python",
   "pygments_lexer": "ipython3",
   "version": "3.6.8"
  }
 },
 "nbformat": 4,
 "nbformat_minor": 2
}
